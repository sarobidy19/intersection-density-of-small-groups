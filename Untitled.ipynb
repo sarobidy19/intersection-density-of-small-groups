{
 "cells": [
  {
   "cell_type": "markdown",
   "id": "32aac985",
   "metadata": {},
   "source": [
    "|n|k|Description|spectrum|actions|\n",
    " |:---|:---|:-----:|:-------:|:----------:|\n",
    "|1|1|1|{1}|[details](SmallPermutationGroup(1,1).txt)|\n",
    "|2|1|C2|{1}|[details](SmallPermutationGroup(2,1).txt)|\n",
    "|3|1|C3|{1}|[details](SmallPermutationGroup(3,1).txt)|\n",
    "|4|1|C4|{1}|[details](SmallPermutationGroup(4,1).txt)|\n",
    "|4|2|C2 x C2|{1}|[details](SmallPermutationGroup(4,2).txt)|\n",
    "|5|1|C5|{1}|[details](SmallPermutationGroup(5,1).txt)|\n",
    "|6|1|S3|{1}|[details](SmallPermutationGroup(6,1).txt)|\n",
    "|6|2|C6|{1}|[details](SmallPermutationGroup(6,2).txt)|\n",
    "|7|1|C7|{1}|[details](SmallPermutationGroup(7,1).txt)|\n",
    "|8|1|C8|{1}|[details](SmallPermutationGroup(8,1).txt)|\n",
    "|8|2|C4 x C2|{1}|[details](SmallPermutationGroup(8,2).txt)|\n",
    "|8|3|D4|{1}|[details](SmallPermutationGroup(8,3).txt)|\n",
    "|8|4|Q8|{1}|[details](SmallPermutationGroup(8,4).txt)|\n",
    "|8|5|C2 x C2 x C2|{1}|[details](SmallPermutationGroup(8,5).txt)|\n",
    "|9|1|C9|{1}|[details](SmallPermutationGroup(9,1).txt)|\n",
    "|9|2|C3 x C3|{1}|[details](SmallPermutationGroup(9,2).txt)|\n",
    "|10|1|D5|{1}|[details](SmallPermutationGroup(10,1).txt)|\n",
    "|10|2|C10|{1}|[details](SmallPermutationGroup(10,2).txt)|\n",
    "|11|1|C11|{1}|[details](SmallPermutationGroup(11,1).txt)|\n",
    "|12|1|C3 : C4|{1}|[details](SmallPermutationGroup(12,1).txt)|\n",
    "|12|2|C12|{1}|[details](SmallPermutationGroup(12,2).txt)|\n",
    "|12|3|A4|{1, 2}|[details](SmallPermutationGroup(12,3).txt)|\n",
    "|12|4|D6|{1}|[details](SmallPermutationGroup(12,4).txt)|\n",
    "|12|5|C6 x C2|{1}|[details](SmallPermutationGroup(12,5).txt)|\n"
   ]
  },
  {
   "cell_type": "code",
   "execution_count": null,
   "id": "1957c16a",
   "metadata": {},
   "outputs": [],
   "source": []
  }
 ],
 "metadata": {
  "kernelspec": {
   "display_name": "SageMath 10.0",
   "language": "sage",
   "name": "sagemath"
  },
  "language_info": {
   "codemirror_mode": {
    "name": "ipython",
    "version": 3
   },
   "file_extension": ".py",
   "mimetype": "text/x-python",
   "name": "python",
   "nbconvert_exporter": "python",
   "pygments_lexer": "ipython3",
   "version": "3.11.3"
  }
 },
 "nbformat": 4,
 "nbformat_minor": 5
}
