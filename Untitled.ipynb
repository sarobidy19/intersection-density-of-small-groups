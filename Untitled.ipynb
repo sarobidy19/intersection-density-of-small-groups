{
 "cells": [
  {
   "cell_type": "markdown",
   "id": "32aac985",
   "metadata": {},
   "source": [
    "|n|k|Description|spectrum|actions|\n",
    " |:---|:---|:-----:|:-------:|:----------:|\n",
    "|1|1|1|{1}|[details](SmallPermutationGroup(1,1).txt)|\n",
    "|2|1|C2|{1}|[details](SmallPermutationGroup(2,1).txt)|\n",
    "|3|1|C3|{1}|[details](SmallPermutationGroup(3,1).txt)|\n",
    "|4|1|C4|{1}|[details](SmallPermutationGroup(4,1).txt)|\n",
    "|4|2|C2 x C2|{1}|[details](SmallPermutationGroup(4,2).txt)|\n",
    "|5|1|C5|{1}|[details](SmallPermutationGroup(5,1).txt)|\n",
    "|6|1|S3|{1}|[details](SmallPermutationGroup(6,1).txt)|\n",
    "|6|2|C6|{1}|[details](SmallPermutationGroup(6,2).txt)|\n",
    "|7|1|C7|{1}|[details](SmallPermutationGroup(7,1).txt)|\n",
    "|8|1|C8|{1}|[details](SmallPermutationGroup(8,1).txt)|\n",
    "|8|2|C4 x C2|{1}|[details](SmallPermutationGroup(8,2).txt)|\n",
    "|8|3|D4|{1}|[details](SmallPermutationGroup(8,3).txt)|\n",
    "|8|4|Q8|{1}|[details](SmallPermutationGroup(8,4).txt)|\n",
    "|8|5|C2 x C2 x C2|{1}|[details](SmallPermutationGroup(8,5).txt)|\n",
    "|9|1|C9|{1}|[details](SmallPermutationGroup(9,1).txt)|\n",
    "|9|2|C3 x C3|{1}|[details](SmallPermutationGroup(9,2).txt)|\n",
    "|10|1|D5|{1}|[details](SmallPermutationGroup(10,1).txt)|\n",
    "|10|2|C10|{1}|[details](SmallPermutationGroup(10,2).txt)|\n",
    "|11|1|C11|{1}|[details](SmallPermutationGroup(11,1).txt)|\n",
    "|12|1|C3 : C4|{1}|[details](SmallPermutationGroup(12,1).txt)|\n",
    "|12|2|C12|{1}|[details](SmallPermutationGroup(12,2).txt)|\n",
    "|12|3|A4|{1, 2}|[details](SmallPermutationGroup(12,3).txt)|\n",
    "|12|4|D6|{1}|[details](SmallPermutationGroup(12,4).txt)|\n",
    "|12|5|C6 x C2|{1}|[details](SmallPermutationGroup(12,5).txt)|\n"
   ]
  },
  {
   "cell_type": "markdown",
   "id": "7f1db97f",
   "metadata": {},
   "source": [
    "|scheme|rank|order|links|\n",
    "|:---|:---|:-----:|:-------:|\n"
   ]
  },
  {
   "cell_type": "markdown",
   "id": "b83831ba",
   "metadata": {},
   "source": [
    "# Intersection-density-of-small-groups\n",
    "\n",
    "Let $G$ be a group and $H\\leq G$ be a subgroup. We say that $\\mathcal{F} \\subset G$ is $H$-*intersecting* if for any $g,h \\in \\mathcal{F}$, there exists a coset $xH \\in G/H$ such that $x^{-1}(g^{-1}h) x \\in H$. The *intersection density of the action of $G$ on the left cosets of $H$ by left multiplication* is the rational number $$\\rho(G,H) = \\left\\{ \\frac{|\\mathcal{F}|}{|H|} : \\mathcal{F} \\mbox{ is $H$-intersecting} \\right\\}.$$ The *intersection spectrum of $G$* is the set\n",
    "$$ \\sigma(G) =\\left\\{ \\rho(G,H): H\\leq G \\right\\}.$$  \n",
    "\n",
    "## Aim\n",
    "\n",
    "The aim of this project is to the find the intersection sepectrum of small groups. Computations were done with **Sagemath**.\n",
    "\n",
    "Each line of the output looks as follows\n",
    "\n",
    "|n|k|Description|Details|\n",
    "|:---|:---|:---:|:--:|\n",
    "\n",
    "where \n",
    "\n",
    "* $n$ is the order of the group, $k$ is its number in the library of ```SmallPermutationGroup(n,k)``` in **Sagemath**.\n",
    "* **Description** is the structure description of the group.\n",
    "* **Details** is a link to a file that contains the intersection density of the action of the group on each of its subgroups."
   ]
  },
  {
   "cell_type": "code",
   "execution_count": 3,
   "id": "360f0a93",
   "metadata": {},
   "outputs": [
    {
     "ename": "SyntaxError",
     "evalue": "invalid syntax (3407465699.py, line 3)",
     "output_type": "error",
     "traceback": [
      "\u001b[0;36m  Cell \u001b[0;32mIn[3], line 3\u001b[0;36m\u001b[0m\n\u001b[0;31m    Let $G$ be a group and $H * BackslashOperator() * leq G$ be a subgroup. We say that $ * BackslashOperator() * mathcal{F}  * BackslashOperator() * subset G$ is $H$-*intersecting* if for any $g,h  * BackslashOperator() * in  * BackslashOperator() * mathcal{F}$, there exists a coset $xH  * BackslashOperator() * in G/H$ such that $x**{-Integer(1)}(g**{-Integer(1)}h) x  * BackslashOperator() * in H$. The *intersection density of the action of $G$ on the left cosets of $H$ by left multiplication* is the rational number $$ * BackslashOperator() * rho(G,H) =  * BackslashOperator() * left * BackslashOperator() * {  * BackslashOperator() * frac{| * BackslashOperator() * mathcal{F}|}{|H|} :  * BackslashOperator() * mathcal{F}  * BackslashOperator() * mbox{ is $H$-intersecting}  * BackslashOperator() * right * BackslashOperator() * }.$$ The *intersection spectrum of $G$* is the set\u001b[0m\n\u001b[0m        ^\u001b[0m\n\u001b[0;31mSyntaxError\u001b[0m\u001b[0;31m:\u001b[0m invalid syntax\n"
     ]
    }
   ],
   "source": [
    "# intersection-density-of-small-groups\n",
    "\n",
    "Let $G$ be a group and $H\\leq G$ be a subgroup. We say that $\\mathcal{F} \\subset G$ is $H$-*intersecting* if for any $g,h \\in \\mathcal{F}$, there exists a coset $xH \\in G/H$ such that $x^{-1}(g^{-1}h) x \\in H$. The *intersection density of the action of $G$ on the left cosets of $H$ by left multiplication* is the rational number $$\\rho(G,H) = \\left\\{ \\frac{|\\mathcal{F}|}{|H|} : \\mathcal{F} \\mbox{ is $H$-intersecting} \\right\\}.$$ The *intersection spectrum of $G$* is the set\n",
    "$$ \\sigma(G) $$  "
   ]
  },
  {
   "cell_type": "code",
   "execution_count": null,
   "id": "25d9cd3d",
   "metadata": {},
   "outputs": [],
   "source": []
  }
 ],
 "metadata": {
  "kernelspec": {
   "display_name": "SageMath 10.0",
   "language": "sage",
   "name": "sagemath"
  },
  "language_info": {
   "codemirror_mode": {
    "name": "ipython",
    "version": 3
   },
   "file_extension": ".py",
   "mimetype": "text/x-python",
   "name": "python",
   "nbconvert_exporter": "python",
   "pygments_lexer": "ipython3",
   "version": "3.11.3"
  }
 },
 "nbformat": 4,
 "nbformat_minor": 5
}
